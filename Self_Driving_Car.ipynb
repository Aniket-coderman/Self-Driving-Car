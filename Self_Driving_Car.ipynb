{
  "nbformat": 4,
  "nbformat_minor": 0,
  "metadata": {
    "colab": {
      "name": "Self Driving Car.ipynb",
      "provenance": [],
      "authorship_tag": "ABX9TyOL3vbUyMllMO0h/2X+NsA9",
      "include_colab_link": true
    },
    "kernelspec": {
      "name": "python3",
      "display_name": "Python 3"
    }
  },
  "cells": [
    {
      "cell_type": "markdown",
      "metadata": {
        "id": "view-in-github",
        "colab_type": "text"
      },
      "source": [
        "<a href=\"https://colab.research.google.com/github/Machine-ly/Self-Driving-Car/blob/master/Self_Driving_Car.ipynb\" target=\"_parent\"><img src=\"https://colab.research.google.com/assets/colab-badge.svg\" alt=\"Open In Colab\"/></a>"
      ]
    },
    {
      "cell_type": "markdown",
      "metadata": {
        "id": "8RBWIb1U92vY",
        "colab_type": "text"
      },
      "source": [
        "# Self Driving Car"
      ]
    },
    {
      "cell_type": "code",
      "metadata": {
        "id": "-RcD8O0H9xI5",
        "colab_type": "code",
        "colab": {}
      },
      "source": [
        ""
      ],
      "execution_count": null,
      "outputs": []
    }
  ]
}